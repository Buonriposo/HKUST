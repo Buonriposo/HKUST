{
 "cells": [
  {
   "cell_type": "code",
   "execution_count": 1,
   "id": "ecc48cf9",
   "metadata": {},
   "outputs": [],
   "source": [
    "import pandas as pd\n",
    "import numpy as np\n",
    "import matplotlib.pyplot as plt\n",
    "\n",
    "z = pd.read_csv('house_price.txt', sep = ',')"
   ]
  },
  {
   "cell_type": "code",
   "execution_count": 90,
   "id": "4216ba2c",
   "metadata": {
    "scrolled": true
   },
   "outputs": [],
   "source": [
    "z.loc[:, (\"y1\")] = (z['price'] > z['price'].median()).astype(int)\n",
    "z = z.drop(['index','price','sq_price'], axis = 1)\n",
    "z_low = z.loc[z['y1'] == 0][['area','bathrooms','y1']]\n",
    "z_high = z.loc[z['y1'] == 1][['area','bathrooms','y1']]"
   ]
  },
  {
   "cell_type": "code",
   "execution_count": 97,
   "id": "629bfaaa",
   "metadata": {},
   "outputs": [],
   "source": [
    "from sklearn.model_selection import train_test_split\n",
    "from sklearn.preprocessing import StandardScaler\n",
    "trainX, testX, trainY, testY = train_test_split(z[['area','bathrooms']], z['y1'], test_size = 0.25, random_state = 33)\n",
    "ss = StandardScaler()\n",
    "trainX_std = ss.fit_transform(trainX)\n",
    "testX_std = ss.transform(testX)\n"
   ]
  },
  {
   "cell_type": "code",
   "execution_count": null,
   "id": "d26dd6f9",
   "metadata": {},
   "outputs": [],
   "source": [
    "## l2-regularized logistic model\n",
    "from sklearn.linear_model import LogisticRegression\n",
    "lr = LogisticRegression(solver = 'liblinear').fit(trainX_std, trainY)"
   ]
  },
  {
   "cell_type": "code",
   "execution_count": null,
   "id": "65207fa3",
   "metadata": {},
   "outputs": [],
   "source": [
    "from sklearn.metrics import confusion_matrix, classification_report\n",
    "predictY = lr.predict(testX_std)\n",
    "CFmat = confusion_matrix(y_true = testY, y_pred = predictY)\n",
    "print(CFmat)\n",
    "print(classification_report(testY, predictY))"
   ]
  },
  {
   "cell_type": "code",
   "execution_count": 100,
   "id": "e329cc1d",
   "metadata": {},
   "outputs": [
    {
     "name": "stdout",
     "output_type": "stream",
     "text": [
      "              precision    recall  f1-score   support\n",
      "\n",
      "           0       0.88      1.00      0.93         7\n",
      "           1       1.00      0.80      0.89         5\n",
      "\n",
      "    accuracy                           0.92        12\n",
      "   macro avg       0.94      0.90      0.91        12\n",
      "weighted avg       0.93      0.92      0.91        12\n",
      "\n"
     ]
    }
   ],
   "source": [
    "#Linear SVM\n",
    "from sklearn.svm import LinearSVC\n",
    "lsvc = LinearSVC().fit(trainX_std, trainY)\n",
    "predictY = lsvc.predict(testX_std)\n",
    "from sklearn.metrics import classification_report\n",
    "print(classification_report(testY, predictY))"
   ]
  },
  {
   "cell_type": "code",
   "execution_count": 109,
   "id": "da9ebe1d",
   "metadata": {},
   "outputs": [
    {
     "name": "stdout",
     "output_type": "stream",
     "text": [
      "[1 1 0 1 0 0 1 0 1 1 0 0]\n"
     ]
    }
   ],
   "source": [
    "#kernel SVM\n",
    "from sklearn.svm import SVC\n",
    "ksvm = SVC(kernel = 'rbf', C=1, gamma=0.1).fit(trainX_std,trainY)\n",
    "predictY2 = ksvm.predict(testX_std)\n",
    "print(classification_report(testY,predictY2))"
   ]
  },
  {
   "cell_type": "code",
   "execution_count": 1,
   "id": "4ec87a31",
   "metadata": {},
   "outputs": [
    {
     "ename": "NameError",
     "evalue": "name 'trainY' is not defined",
     "output_type": "error",
     "traceback": [
      "\u001b[1;31m---------------------------------------------------------------------------\u001b[0m",
      "\u001b[1;31mNameError\u001b[0m                                 Traceback (most recent call last)",
      "\u001b[1;32m<ipython-input-1-110d078561db>\u001b[0m in \u001b[0;36m<module>\u001b[1;34m\u001b[0m\n\u001b[0;32m      3\u001b[0m \u001b[1;32mfrom\u001b[0m \u001b[0msklearn\u001b[0m\u001b[1;33m.\u001b[0m\u001b[0mmetrics\u001b[0m \u001b[1;32mimport\u001b[0m \u001b[0maccuracy_score\u001b[0m\u001b[1;33m\u001b[0m\u001b[1;33m\u001b[0m\u001b[0m\n\u001b[0;32m      4\u001b[0m \u001b[0maccuracy_rate\u001b[0m \u001b[1;33m=\u001b[0m \u001b[1;33m[\u001b[0m\u001b[1;33m]\u001b[0m\u001b[1;33m\u001b[0m\u001b[1;33m\u001b[0m\u001b[0m\n\u001b[1;32m----> 5\u001b[1;33m \u001b[0mn_train\u001b[0m \u001b[1;33m=\u001b[0m \u001b[0mlen\u001b[0m\u001b[1;33m(\u001b[0m\u001b[0mtrainY\u001b[0m\u001b[1;33m)\u001b[0m\u001b[1;33m\u001b[0m\u001b[1;33m\u001b[0m\u001b[0m\n\u001b[0m\u001b[0;32m      6\u001b[0m \u001b[1;32mfor\u001b[0m \u001b[0mi\u001b[0m \u001b[1;32min\u001b[0m \u001b[0mrange\u001b[0m\u001b[1;33m(\u001b[0m\u001b[1;36m1\u001b[0m\u001b[1;33m,\u001b[0m \u001b[0mn_train\u001b[0m \u001b[1;33m+\u001b[0m \u001b[1;36m1\u001b[0m\u001b[1;33m)\u001b[0m\u001b[1;33m:\u001b[0m\u001b[1;33m\u001b[0m\u001b[1;33m\u001b[0m\u001b[0m\n\u001b[0;32m      7\u001b[0m     \u001b[0mknn\u001b[0m \u001b[1;33m=\u001b[0m \u001b[0mKNeighborsClassifier\u001b[0m\u001b[1;33m(\u001b[0m\u001b[0mn_neighbors\u001b[0m \u001b[1;33m=\u001b[0m \u001b[0mi\u001b[0m\u001b[1;33m)\u001b[0m\u001b[1;33m.\u001b[0m\u001b[0mfit\u001b[0m\u001b[1;33m(\u001b[0m\u001b[0mtrainX_std\u001b[0m\u001b[1;33m,\u001b[0m \u001b[0mtrainY\u001b[0m\u001b[1;33m)\u001b[0m\u001b[1;33m\u001b[0m\u001b[1;33m\u001b[0m\u001b[0m\n",
      "\u001b[1;31mNameError\u001b[0m: name 'trainY' is not defined"
     ]
    }
   ],
   "source": [
    "#kNN\n",
    "from sklearn.neighbors import KNeighborsClassifier\n",
    "from sklearn.metrics import accuracy_score\n",
    "accuracy_rate = []\n",
    "n_train = len(trainY)\n",
    "for i in range(1, n_train + 1):\n",
    "    knn = KNeighborsClassifier(n_neighbors = i).fit(trainX_std, trainY)\n",
    "    pred_i = knn.predict(testX_std)\n",
    "    accuracy_rate.append(accuracy_score(testY, pred_i))\n",
    "\n",
    "plt.figure(figsize=(10,6))\n",
    "plt.plot(range(1, n_train+1), accuracy_rate, color='blue',linestyle='dashed',marker='o',markerfacecolor='red',markersize=10)\n",
    "plt.xlabel('k')\n",
    "plt.ylabel('Accuracy Rate')\n",
    "print('Max accuracy:', max(accuracy_rate), 'at k =', accuracy_rate.index(max(accuracy_rate))+1)"
   ]
  },
  {
   "cell_type": "code",
   "execution_count": null,
   "id": "4c4851bb",
   "metadata": {},
   "outputs": [],
   "source": [
    "## Decision Tree\n",
    "from sklearn.tree import DecisionTreeClassifier\n",
    "dtree = DecisionTreeClassifier().fit(trainX_std,trainY)"
   ]
  },
  {
   "cell_type": "code",
   "execution_count": null,
   "id": "449887ba",
   "metadata": {},
   "outputs": [],
   "source": [
    "from sklearn.metrics import confusion_matrix, classification_report\n",
    "predictDt = dtree.predict(testX_std)\n",
    "CFmat = confusion_matrix(y_true = testY, y_pred = predictDt)\n",
    "print(CFmat)\n",
    "print(classification_report(testY, predictDc))"
   ]
  },
  {
   "cell_type": "code",
   "execution_count": null,
   "id": "8b0c629a",
   "metadata": {},
   "outputs": [],
   "source": [
    "from sklearn import tree\n",
    "fig = plt.figure(figsize = (25,20))\n",
    "_ = tree.plot_tree(dtree,\n",
    "                  feature_names = trainX_std.columns,\n",
    "                  class_names = ['low','high'],\n",
    "                  filled = True)"
   ]
  },
  {
   "cell_type": "code",
   "execution_count": null,
   "id": "fb2c3de5",
   "metadata": {},
   "outputs": [],
   "source": [
    "from sklearn.tree import export_graphviz\n",
    "export_graphviz(dtree,\n",
    "               out_file = 'tree.dot',\n",
    "               class_names = ['low','high'],\n",
    "               feature_names = ['area','bathrooms'],\n",
    "               impurity = False,\n",
    "               filled = True)\n",
    "import graphviz\n",
    "with open('tree.dot') as f:\n",
    "    dotgraph = f.read()\n",
    "    "
   ]
  },
  {
   "cell_type": "code",
   "execution_count": 1,
   "id": "5cced6df",
   "metadata": {},
   "outputs": [
    {
     "ename": "NameError",
     "evalue": "name 'trainX_std' is not defined",
     "output_type": "error",
     "traceback": [
      "\u001b[1;31m---------------------------------------------------------------------------\u001b[0m",
      "\u001b[1;31mNameError\u001b[0m                                 Traceback (most recent call last)",
      "\u001b[1;32m<ipython-input-1-3fa7b7ca6ea0>\u001b[0m in \u001b[0;36m<module>\u001b[1;34m\u001b[0m\n\u001b[0;32m      1\u001b[0m \u001b[1;31m## naive Bayes\u001b[0m\u001b[1;33m\u001b[0m\u001b[1;33m\u001b[0m\u001b[1;33m\u001b[0m\u001b[0m\n\u001b[0;32m      2\u001b[0m \u001b[1;32mfrom\u001b[0m \u001b[0msklearn\u001b[0m\u001b[1;33m.\u001b[0m\u001b[0mnaive_bayes\u001b[0m \u001b[1;32mimport\u001b[0m \u001b[0mGaussianNB\u001b[0m\u001b[1;33m\u001b[0m\u001b[1;33m\u001b[0m\u001b[0m\n\u001b[1;32m----> 3\u001b[1;33m \u001b[0mgnb\u001b[0m \u001b[1;33m=\u001b[0m \u001b[0mGaussianNB\u001b[0m\u001b[1;33m(\u001b[0m\u001b[1;33m)\u001b[0m\u001b[1;33m.\u001b[0m\u001b[0mfit\u001b[0m\u001b[1;33m(\u001b[0m\u001b[0mtrainX_std\u001b[0m\u001b[1;33m,\u001b[0m\u001b[0mtrainY\u001b[0m\u001b[1;33m)\u001b[0m\u001b[1;33m\u001b[0m\u001b[1;33m\u001b[0m\u001b[0m\n\u001b[0m",
      "\u001b[1;31mNameError\u001b[0m: name 'trainX_std' is not defined"
     ]
    }
   ],
   "source": [
    "## naive Bayes\n",
    "from sklearn.naive_bayes import GaussianNB\n",
    "gnb = GaussianNB().fit(trainX_std,trainY)"
   ]
  },
  {
   "cell_type": "code",
   "execution_count": null,
   "id": "d836e9c3",
   "metadata": {},
   "outputs": [],
   "source": [
    "from sklearn.metrics import confusion_matrix, classification_report\n",
    "predictYgnb = gnb.predict(testX_std)\n",
    "CFmat = confusion_matrix(y_true = testY, y_pred = predictYgnb)\n",
    "print(CFmat)\n",
    "print(classification_report(testY,predictYgnb))"
   ]
  }
 ],
 "metadata": {
  "kernelspec": {
   "display_name": "Python 3",
   "language": "python",
   "name": "python3"
  },
  "language_info": {
   "codemirror_mode": {
    "name": "ipython",
    "version": 3
   },
   "file_extension": ".py",
   "mimetype": "text/x-python",
   "name": "python",
   "nbconvert_exporter": "python",
   "pygments_lexer": "ipython3",
   "version": "3.7.6"
  },
  "toc": {
   "base_numbering": 1,
   "nav_menu": {},
   "number_sections": true,
   "sideBar": true,
   "skip_h1_title": false,
   "title_cell": "Table of Contents",
   "title_sidebar": "Contents",
   "toc_cell": false,
   "toc_position": {},
   "toc_section_display": true,
   "toc_window_display": false
  }
 },
 "nbformat": 4,
 "nbformat_minor": 5
}
