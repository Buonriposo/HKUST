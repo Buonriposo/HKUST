{
 "cells": [
  {
   "cell_type": "code",
   "execution_count": 1,
   "id": "ecc48cf9",
   "metadata": {},
   "outputs": [],
   "source": [
    "import pandas as pd\n",
    "import numpy as np\n",
    "import matplotlib.pyplot as plt\n",
    "\n",
    "z = pd.read_csv('house_price.txt', sep = ',')"
   ]
  },
  {
   "cell_type": "code",
   "execution_count": 2,
   "id": "4216ba2c",
   "metadata": {
    "scrolled": true
   },
   "outputs": [],
   "source": [
    "z.loc[:, (\"y1\")] = (z['price'] > z['price'].median()).astype(int)\n",
    "z = z.drop(['index','price','sq_price'], axis = 1)\n",
    "z_low = z.loc[z['y1'] == 0][['area','bathrooms','y1']]\n",
    "z_high = z.loc[z['y1'] == 1][['area','bathrooms','y1']]"
   ]
  },
  {
   "cell_type": "code",
   "execution_count": 3,
   "id": "629bfaaa",
   "metadata": {},
   "outputs": [],
   "source": [
    "from sklearn.model_selection import train_test_split\n",
    "from sklearn.preprocessing import StandardScaler\n",
    "trainX, testX, trainY, testY = train_test_split(z[['area','bathrooms']], z['y1'], test_size = 0.25, random_state = 33)\n",
    "ss = StandardScaler()\n",
    "trainX_std = ss.fit_transform(trainX)\n",
    "testX_std = ss.transform(testX)\n"
   ]
  },
  {
   "cell_type": "code",
   "execution_count": 4,
   "id": "d26dd6f9",
   "metadata": {},
   "outputs": [],
   "source": [
    "## l2-regularized logistic model\n",
    "from sklearn.linear_model import LogisticRegression\n",
    "lr = LogisticRegression(solver = 'liblinear').fit(trainX_std, trainY)"
   ]
  },
  {
   "cell_type": "code",
   "execution_count": 5,
   "id": "65207fa3",
   "metadata": {},
   "outputs": [
    {
     "name": "stdout",
     "output_type": "stream",
     "text": [
      "[[7 0]\n",
      " [1 4]]\n",
      "              precision    recall  f1-score   support\n",
      "\n",
      "           0       0.88      1.00      0.93         7\n",
      "           1       1.00      0.80      0.89         5\n",
      "\n",
      "    accuracy                           0.92        12\n",
      "   macro avg       0.94      0.90      0.91        12\n",
      "weighted avg       0.93      0.92      0.91        12\n",
      "\n"
     ]
    }
   ],
   "source": [
    "from sklearn.metrics import confusion_matrix, classification_report\n",
    "predictY = lr.predict(testX_std)\n",
    "CFmat = confusion_matrix(y_true = testY, y_pred = predictY)\n",
    "print(CFmat)\n",
    "print(classification_report(testY, predictY))"
   ]
  },
  {
   "cell_type": "code",
   "execution_count": 6,
   "id": "e329cc1d",
   "metadata": {},
   "outputs": [
    {
     "name": "stdout",
     "output_type": "stream",
     "text": [
      "              precision    recall  f1-score   support\n",
      "\n",
      "           0       0.88      1.00      0.93         7\n",
      "           1       1.00      0.80      0.89         5\n",
      "\n",
      "    accuracy                           0.92        12\n",
      "   macro avg       0.94      0.90      0.91        12\n",
      "weighted avg       0.93      0.92      0.91        12\n",
      "\n"
     ]
    }
   ],
   "source": [
    "#Linear SVM\n",
    "from sklearn.svm import LinearSVC\n",
    "lsvc = LinearSVC().fit(trainX_std, trainY)\n",
    "predictY = lsvc.predict(testX_std)\n",
    "from sklearn.metrics import classification_report\n",
    "print(classification_report(testY, predictY))"
   ]
  },
  {
   "cell_type": "code",
   "execution_count": 7,
   "id": "da9ebe1d",
   "metadata": {},
   "outputs": [
    {
     "name": "stdout",
     "output_type": "stream",
     "text": [
      "              precision    recall  f1-score   support\n",
      "\n",
      "           0       0.83      0.71      0.77         7\n",
      "           1       0.67      0.80      0.73         5\n",
      "\n",
      "    accuracy                           0.75        12\n",
      "   macro avg       0.75      0.76      0.75        12\n",
      "weighted avg       0.76      0.75      0.75        12\n",
      "\n"
     ]
    }
   ],
   "source": [
    "#kernel SVM\n",
    "from sklearn.svm import SVC\n",
    "ksvm = SVC(kernel = 'rbf', C=1,gamma=0.1).fit(trainX_std,trainY)\n",
    "predictY2 = ksvm.predict(testX_std)\n",
    "print(classification_report(testY,predictY2))"
   ]
  },
  {
   "cell_type": "code",
   "execution_count": 8,
   "id": "4ec87a31",
   "metadata": {},
   "outputs": [
    {
     "name": "stdout",
     "output_type": "stream",
     "text": [
      "Max accuracy: 0.8333333333333334 at k = 3\n"
     ]
    },
    {
     "data": {
      "image/png": "[encoded data removed]",
      "text/plain": [
       "<Figure size 720x432 with 1 Axes>"
      ]
     },
     "metadata": {
      "needs_background": "light"
     },
     "output_type": "display_data"
    }
   ],
   "source": [
    "#kNN\n",
    "from sklearn.neighbors import KNeighborsClassifier\n",
    "from sklearn.metrics import accuracy_score\n",
    "accuracy_rate = []\n",
    "n_train = len(trainY)\n",
    "for i in range(1, n_train + 1):\n",
    "    knn = KNeighborsClassifier(n_neighbors = i).fit(trainX_std, trainY)\n",
    "    pred_i = knn.predict(testX_std)\n",
    "    accuracy_rate.append(accuracy_score(testY, pred_i))\n",
    "\n",
    "plt.figure(figsize=(10,6))\n",
    "plt.plot(range(1, n_train+1), accuracy_rate, color='blue',linestyle='dashed',marker='o',markerfacecolor='red',markersize=10)\n",
    "plt.xlabel('k')\n",
    "plt.ylabel('Accuracy Rate')\n",
    "print('Max accuracy:', max(accuracy_rate), 'at k =', accuracy_rate.index(max(accuracy_rate))+1)"
   ]
  },
  {
   "cell_type": "code",
   "execution_count": 9,
   "id": "4c4851bb",
   "metadata": {},
   "outputs": [],
   "source": [
    "## Decision Tree\n",
    "from sklearn.tree import DecisionTreeClassifier\n",
    "dtree = DecisionTreeClassifier().fit(trainX_std,trainY)"
   ]
  },
  {
   "cell_type": "code",
   "execution_count": 11,
   "id": "449887ba",
   "metadata": {},
   "outputs": [
    {
     "name": "stdout",
     "output_type": "stream",
     "text": [
      "[[7 0]\n",
      " [2 3]]\n",
      "              precision    recall  f1-score   support\n",
      "\n",
      "           0       0.78      1.00      0.88         7\n",
      "           1       1.00      0.60      0.75         5\n",
      "\n",
      "    accuracy                           0.83        12\n",
      "   macro avg       0.89      0.80      0.81        12\n",
      "weighted avg       0.87      0.83      0.82        12\n",
      "\n"
     ]
    }
   ],
   "source": [
    "from sklearn.metrics import confusion_matrix, classification_report\n",
    "predictDt = dtree.predict(testX_std)\n",
    "CFmat = confusion_matrix(y_true = testY, y_pred = predictDt)\n",
    "print(CFmat)\n",
    "print(classification_report(testY, predictDt))"
   ]
  },
  {
   "cell_type": "code",
   "execution_count": 13,
   "id": "5cced6df",
   "metadata": {},
   "outputs": [],
   "source": [
    "## naive Bayes\n",
    "from sklearn.naive_bayes import GaussianNB\n",
    "gnb = GaussianNB().fit(trainX_std,trainY)"
   ]
  },
  {
   "cell_type": "code",
   "execution_count": 14,
   "id": "d836e9c3",
   "metadata": {},
   "outputs": [
    {
     "name": "stdout",
     "output_type": "stream",
     "text": [
      "[[5 2]\n",
      " [2 3]]\n",
      "              precision    recall  f1-score   support\n",
      "\n",
      "           0       0.71      0.71      0.71         7\n",
      "           1       0.60      0.60      0.60         5\n",
      "\n",
      "    accuracy                           0.67        12\n",
      "   macro avg       0.66      0.66      0.66        12\n",
      "weighted avg       0.67      0.67      0.67        12\n",
      "\n"
     ]
    }
   ],
   "source": [
    "from sklearn.metrics import confusion_matrix, classification_report\n",
    "predictYgnb = gnb.predict(testX_std)\n",
    "CFmat = confusion_matrix(y_true = testY, y_pred = predictYgnb)\n",
    "print(CFmat)\n",
    "print(classification_report(testY,predictYgnb))"
   ]
  }
 ],
 "metadata": {
  "kernelspec": {
   "display_name": "Python 3",
   "language": "python",
   "name": "python3"
  },
  "language_info": {
   "codemirror_mode": {
    "name": "ipython",
    "version": 3
   },
   "file_extension": ".py",
   "mimetype": "text/x-python",
   "name": "python",
   "nbconvert_exporter": "python",
   "pygments_lexer": "ipython3",
   "version": "3.7.6"
  },
  "toc": {
   "base_numbering": 1,
   "nav_menu": {},
   "number_sections": true,
   "sideBar": true,
   "skip_h1_title": false,
   "title_cell": "Table of Contents",
   "title_sidebar": "Contents",
   "toc_cell": false,
   "toc_position": {},
   "toc_section_display": true,
   "toc_window_display": false
  }
 },
 "nbformat": 4,
 "nbformat_minor": 5
}
