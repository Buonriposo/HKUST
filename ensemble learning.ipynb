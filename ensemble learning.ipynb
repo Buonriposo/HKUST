{
 "cells": [
  {
   "cell_type": "code",
   "execution_count": 6,
   "id": "b7a08667",
   "metadata": {},
   "outputs": [],
   "source": [
    "import pandas as pd\n",
    "import numpy as np\n",
    "import matplotlib.pyplot as plt\n",
    "\n",
    "z = pd.read_csv('house_price.txt', sep = ',')"
   ]
  },
  {
   "cell_type": "code",
   "execution_count": 7,
   "id": "cad864da",
   "metadata": {},
   "outputs": [],
   "source": [
    "z.loc[:, (\"y1\")] = (z['price'] > z['price'].median()).astype(int)\n",
    "z = z.drop(['index','price','sq_price'], axis = 1)\n",
    "z_low = z.loc[z['y1'] == 0][['area','bathrooms','y1']]\n",
    "z_high = z.loc[z['y1'] == 1][['area','bathrooms','y1']]"
   ]
  },
  {
   "cell_type": "code",
   "execution_count": 50,
   "id": "5dd391e6",
   "metadata": {},
   "outputs": [],
   "source": [
    "from sklearn.model_selection import train_test_split\n",
    "from sklearn.preprocessing import StandardScaler\n",
    "trainX, testX, trainY, testY = train_test_split(z[['area','bathrooms']], z['y1'], test_size = 0.25, random_state = 33)\n",
    "ss = StandardScaler()\n",
    "trainX_std = ss.fit_transform(trainX)\n",
    "testX_std = ss.transform(testX)"
   ]
  },
  {
   "cell_type": "code",
   "execution_count": 17,
   "id": "4f81264e",
   "metadata": {},
   "outputs": [],
   "source": [
    "## Bagging\n",
    "from sklearn.ensemble import BaggingClassifier as bc\n",
    "bg = bc().fit(trainX_std,trainY)"
   ]
  },
  {
   "cell_type": "code",
   "execution_count": 18,
   "id": "e1c472fb",
   "metadata": {},
   "outputs": [
    {
     "name": "stdout",
     "output_type": "stream",
     "text": [
      "[[6 1]\n",
      " [1 4]]\n",
      "              precision    recall  f1-score   support\n",
      "\n",
      "           0       0.86      0.86      0.86         7\n",
      "           1       0.80      0.80      0.80         5\n",
      "\n",
      "    accuracy                           0.83        12\n",
      "   macro avg       0.83      0.83      0.83        12\n",
      "weighted avg       0.83      0.83      0.83        12\n",
      "\n"
     ]
    }
   ],
   "source": [
    "from sklearn.metrics import classification_report,confusion_matrix\n",
    "predictY_bg = bg.predict(testX_std)\n",
    "CFmat = confusion_matrix(y_true = testY, y_pred = predictY_bg)\n",
    "print(CFmat)\n",
    "print(classification_report(testY, predictY_bg))"
   ]
  },
  {
   "cell_type": "code",
   "execution_count": 21,
   "id": "349daf94",
   "metadata": {},
   "outputs": [],
   "source": [
    "## Random Forest\n",
    "from sklearn.ensemble import RandomForestClassifier\n",
    "rforest = RandomForestClassifier().fit(trainX_std, trainY)"
   ]
  },
  {
   "cell_type": "code",
   "execution_count": 24,
   "id": "18327a7d",
   "metadata": {},
   "outputs": [
    {
     "name": "stdout",
     "output_type": "stream",
     "text": [
      "[[7 0]\n",
      " [2 3]]\n",
      "              precision    recall  f1-score   support\n",
      "\n",
      "           0       0.78      1.00      0.88         7\n",
      "           1       1.00      0.60      0.75         5\n",
      "\n",
      "    accuracy                           0.83        12\n",
      "   macro avg       0.89      0.80      0.81        12\n",
      "weighted avg       0.87      0.83      0.82        12\n",
      "\n"
     ]
    }
   ],
   "source": [
    "from sklearn.metrics import classification_report,confusion_matrix\n",
    "predictY_rf = rforest.predict(testX_std)\n",
    "CFmat = confusion_matrix(y_true = testY, y_pred = predictY_rf)\n",
    "print(CFmat)\n",
    "print(classification_report(testY, predictY_rf))"
   ]
  },
  {
   "cell_type": "code",
   "execution_count": 27,
   "id": "5dcaea7b",
   "metadata": {},
   "outputs": [
    {
     "name": "stdout",
     "output_type": "stream",
     "text": [
      "mean of RF : 0.6981666666666666\n",
      "mean of DT : 0.68575\n"
     ]
    }
   ],
   "source": [
    "## check the mean of Rf and Dt\n",
    "import numpy as np\n",
    "from sklearn.tree import DecisionTreeClassifier\n",
    "al_RF = []\n",
    "al_DT = []\n",
    "\n",
    "for i in range(1000):\n",
    "    trainX, testX, trainY, testY = train_test_split(z[['area','bathrooms']], z['y1'], test_size = 0.25)\n",
    "    ss = StandardScaler()\n",
    "    trainX_std = ss.fit_transform(trainX)\n",
    "    testX_std = ss.transform(testX)\n",
    "\n",
    "    rforest = RandomForestClassifier().fit(trainX_std,trainY)\n",
    "    accuracy_RF = rforest.score(testX_std, testY)\n",
    "    al_RF.append(accuracy_RF)\n",
    "    \n",
    "    dtree = DecisionTreeClassifier().fit(trainX_std,trainY)\n",
    "    accuracy_DT = dtree.score(testX_std, testY)\n",
    "    al_DT.append(accuracy_DT)\n",
    "\n",
    "print('mean of RF :',np.mean(al_RF))\n",
    "print('mean of DT :',np.mean(al_DT))"
   ]
  },
  {
   "cell_type": "code",
   "execution_count": 41,
   "id": "33be37f4",
   "metadata": {},
   "outputs": [],
   "source": [
    "## AdaBoost (Adaptive Boosting)\n",
    "from sklearn.ensemble import AdaBoostClassifier\n",
    "adaB = AdaBoostClassifier(n_estimators = 6).fit(trainX_std,trainY)"
   ]
  },
  {
   "cell_type": "code",
   "execution_count": 45,
   "id": "0b7bc91f",
   "metadata": {},
   "outputs": [
    {
     "name": "stdout",
     "output_type": "stream",
     "text": [
      "[[6 1]\n",
      " [1 4]]\n",
      "              precision    recall  f1-score   support\n",
      "\n",
      "           0       0.86      0.86      0.86         7\n",
      "           1       0.80      0.80      0.80         5\n",
      "\n",
      "    accuracy                           0.83        12\n",
      "   macro avg       0.83      0.83      0.83        12\n",
      "weighted avg       0.83      0.83      0.83        12\n",
      "\n"
     ]
    }
   ],
   "source": [
    "from sklearn.metrics import classification_report,confusion_matrix\n",
    "predictY_adaB = adaB.predict(testX_std)\n",
    "CFmat = confusion_matrix(y_true = testY, y_pred = predictY_adaB)\n",
    "print(CFmat)\n",
    "print(classification_report(testY, predictY_adaB))"
   ]
  },
  {
   "cell_type": "code",
   "execution_count": 46,
   "id": "a56c0ccb",
   "metadata": {},
   "outputs": [
    {
     "data": {
      "text/plain": [
       "array([1., 0.])"
      ]
     },
     "execution_count": 46,
     "metadata": {},
     "output_type": "execute_result"
    }
   ],
   "source": [
    "adaB.feature_importances_"
   ]
  },
  {
   "cell_type": "code",
   "execution_count": 40,
   "id": "eabdf597",
   "metadata": {},
   "outputs": [
    {
     "data": {
      "text/plain": [
       "[<matplotlib.lines.Line2D at 0x239bdd06b48>]"
      ]
     },
     "execution_count": 40,
     "metadata": {},
     "output_type": "execute_result"
    },
    {
     "data": {
      "image/png": "[encoded data removed]",
      "text/plain": [
       "<Figure size 432x288 with 1 Axes>"
      ]
     },
     "metadata": {
      "needs_background": "light"
     },
     "output_type": "display_data"
    }
   ],
   "source": [
    "## find the best number of classifiers\n",
    "import matplotlib.pyplot as plt\n",
    "accuracy = []\n",
    "for i in range(1,31):\n",
    "    adaB = AdaBoostClassifier(n_estimators = i).fit(trainX_std,trainY)\n",
    "    accuracy.append(adaB.score(testX_std, testY))\n",
    "\n",
    "plt.ylabel('Accuracy')\n",
    "plt.xlabel('Number of Classifiers')\n",
    "plt.plot(accuracy, color = 'blue', linestyle = 'dashed', marker = 'o', markerfacecolor = 'red', markersize = 10)"
   ]
  },
  {
   "cell_type": "code",
   "execution_count": 47,
   "id": "fcb098bf",
   "metadata": {},
   "outputs": [],
   "source": [
    "## GBT (Gradient Boosting Tree)\n",
    "from sklearn.ensemble import GradientBoostingClassifier\n",
    "gBoosting = GradientBoostingClassifier().fit(trainX_std,trainY)"
   ]
  },
  {
   "cell_type": "code",
   "execution_count": 48,
   "id": "843407e2",
   "metadata": {},
   "outputs": [
    {
     "name": "stdout",
     "output_type": "stream",
     "text": [
      "[[6 1]\n",
      " [1 4]]\n",
      "              precision    recall  f1-score   support\n",
      "\n",
      "           0       0.86      0.86      0.86         7\n",
      "           1       0.80      0.80      0.80         5\n",
      "\n",
      "    accuracy                           0.83        12\n",
      "   macro avg       0.83      0.83      0.83        12\n",
      "weighted avg       0.83      0.83      0.83        12\n",
      "\n"
     ]
    }
   ],
   "source": [
    "from sklearn.metrics import classification_report,confusion_matrix\n",
    "predictY_gbt = adaB.predict(testX_std)\n",
    "CFmat = confusion_matrix(y_true = testY, y_pred = predictY_gbt)\n",
    "print(CFmat)\n",
    "print(classification_report(testY, predictY_gbt))"
   ]
  },
  {
   "cell_type": "code",
   "execution_count": 49,
   "id": "dd9f8996",
   "metadata": {},
   "outputs": [
    {
     "name": "stdout",
     "output_type": "stream",
     "text": [
      "mean of RF : 0.70225\n",
      "mean of DT : 0.6840833333333333\n",
      "mean of em_all : 0.78225\n"
     ]
    }
   ],
   "source": [
    "## voting classifier\n",
    "from sklearn.ensemble import VotingClassifier\n",
    "from sklearn.linear_model import LogisticRegression\n",
    "from sklearn.svm import LinearSVC\n",
    "\n",
    "al_RF = []\n",
    "al_DF = []\n",
    "al_all = []\n",
    "for i in range(1000):\n",
    "    trainX, testX, trainY, testY = train_test_split(z[['area','bathrooms']], z['y1'], test_size = 0.25)\n",
    "    ss = StandardScaler()\n",
    "    trainX_std = ss.fit_transform(trainX)\n",
    "    testX_std = ss.transform(testX)\n",
    "\n",
    "    rforest = RandomForestClassifier().fit(trainX_std,trainY)\n",
    "    accuracy_RF = rforest.score(testX_std, testY)\n",
    "    al_RF.append(accuracy_RF)\n",
    "    \n",
    "    dtree = DecisionTreeClassifier().fit(trainX_std,trainY)\n",
    "    accuracy_DT = dtree.score(testX_std, testY)\n",
    "    al_DT.append(accuracy_DT)\n",
    "    \n",
    "    em_all = VotingClassifier([('logR', LogisticRegression()),\n",
    "                               ('svm',LinearSVC()),\n",
    "                               ('RF',RandomForestClassifier())]).fit(trainX_std,trainY)\n",
    "    accuracy_em_all = em_all.score(testX_std,testY)\n",
    "    al_all.append(accuracy_em_all)\n",
    "\n",
    "print('mean of RF :',np.mean(al_RF))\n",
    "print('mean of DT :',np.mean(al_DT))\n",
    "print('mean of em_all :',np.mean(al_all))"
   ]
  },
  {
   "cell_type": "code",
   "execution_count": 51,
   "id": "e4dbabc0",
   "metadata": {},
   "outputs": [],
   "source": [
    "voting_em = VotingClassifier([('logR', LogisticRegression()),\n",
    "                               ('svm',LinearSVC()),\n",
    "                               ('RF',RandomForestClassifier())]).fit(trainX_std,trainY)\n"
   ]
  },
  {
   "cell_type": "code",
   "execution_count": 52,
   "id": "45ed225c",
   "metadata": {},
   "outputs": [
    {
     "name": "stdout",
     "output_type": "stream",
     "text": [
      "[[7 0]\n",
      " [1 4]]\n",
      "              precision    recall  f1-score   support\n",
      "\n",
      "           0       0.88      1.00      0.93         7\n",
      "           1       1.00      0.80      0.89         5\n",
      "\n",
      "    accuracy                           0.92        12\n",
      "   macro avg       0.94      0.90      0.91        12\n",
      "weighted avg       0.93      0.92      0.91        12\n",
      "\n"
     ]
    }
   ],
   "source": [
    "from sklearn.metrics import classification_report,confusion_matrix\n",
    "predictY_voting_em = voting_em.predict(testX_std)\n",
    "CFmat = confusion_matrix(y_true = testY, y_pred = predictY_voting_em)\n",
    "print(CFmat)\n",
    "print(classification_report(testY, predictY_voting_em))"
   ]
  }
 ],
 "metadata": {
  "kernelspec": {
   "display_name": "Python 3",
   "language": "python",
   "name": "python3"
  },
  "language_info": {
   "codemirror_mode": {
    "name": "ipython",
    "version": 3
   },
   "file_extension": ".py",
   "mimetype": "text/x-python",
   "name": "python",
   "nbconvert_exporter": "python",
   "pygments_lexer": "ipython3",
   "version": "3.7.6"
  }
 },
 "nbformat": 4,
 "nbformat_minor": 5
}
